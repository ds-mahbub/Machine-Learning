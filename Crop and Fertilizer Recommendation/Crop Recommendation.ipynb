{
 "cells": [
  {
   "cell_type": "markdown",
   "id": "df52646d-d81c-4773-8be3-90532a98dd47",
   "metadata": {},
   "source": [
    "# Import Necessary Libraries"
   ]
  },
  {
   "cell_type": "code",
   "execution_count": 2,
   "id": "e9429a4d-6b95-4296-b6e8-840417df8155",
   "metadata": {},
   "outputs": [],
   "source": [
    "import numpy as np\n",
    "import pandas as pd\n",
    "import matplotlib.pyplot as plt\n",
    "import seaborn as sns\n",
    "%matplotlib inline\n",
    "from sklearn.model_selection import train_test_split\n",
    "from sklearn.preprocessing import LabelEncoder\n",
    "from sklearn.linear_model import LogisticRegression\n",
    "from sklearn.naive_bayes import GaussianNB\n",
    "from sklearn.svm import SVC\n",
    "from sklearn.neighbors import KNeighborsClassifier\n",
    "from sklearn.tree import DecisionTreeClassifier\n",
    "from sklearn.tree import ExtraTreeClassifier\n",
    "from sklearn.ensemble import RandomForestClassifier\n",
    "from sklearn.ensemble import BaggingClassifier\n",
    "from sklearn.ensemble import GradientBoostingClassifier\n",
    "from sklearn.ensemble import AdaBoostClassifier\n",
    "from sklearn.metrics import accuracy_score"
   ]
  },
  {
   "cell_type": "markdown",
   "id": "dbd96b84-f9c7-4224-a442-08ebf5a56361",
   "metadata": {},
   "source": [
    "# Loading crop and fertilizer data"
   ]
  },
  {
   "cell_type": "code",
   "execution_count": 3,
   "id": "7ae47364-6a3e-49d1-910e-412ae05e9ac6",
   "metadata": {},
   "outputs": [],
   "source": [
    "crop = pd.read_csv(\"https://raw.githubusercontent.com/ds-mahbub/data/main/Crop_recommendation.csv\")\n",
    "fertilizer = pd.read_csv('https://raw.githubusercontent.com/ds-mahbub/data/main/Fertilizer%20Prediction.csv')"
   ]
  },
  {
   "cell_type": "code",
   "execution_count": 3,
   "id": "9ae36da3-45c9-4c06-8df9-ec41fa3be17a",
   "metadata": {},
   "outputs": [
    {
     "data": {
      "text/html": [
       "<div>\n",
       "<style scoped>\n",
       "    .dataframe tbody tr th:only-of-type {\n",
       "        vertical-align: middle;\n",
       "    }\n",
       "\n",
       "    .dataframe tbody tr th {\n",
       "        vertical-align: top;\n",
       "    }\n",
       "\n",
       "    .dataframe thead th {\n",
       "        text-align: right;\n",
       "    }\n",
       "</style>\n",
       "<table border=\"1\" class=\"dataframe\">\n",
       "  <thead>\n",
       "    <tr style=\"text-align: right;\">\n",
       "      <th></th>\n",
       "      <th>N</th>\n",
       "      <th>P</th>\n",
       "      <th>K</th>\n",
       "      <th>temperature</th>\n",
       "      <th>humidity</th>\n",
       "      <th>ph</th>\n",
       "      <th>rainfall</th>\n",
       "      <th>label</th>\n",
       "    </tr>\n",
       "  </thead>\n",
       "  <tbody>\n",
       "    <tr>\n",
       "      <th>0</th>\n",
       "      <td>90</td>\n",
       "      <td>42</td>\n",
       "      <td>43</td>\n",
       "      <td>20.879744</td>\n",
       "      <td>82.002744</td>\n",
       "      <td>6.502985</td>\n",
       "      <td>202.935536</td>\n",
       "      <td>rice</td>\n",
       "    </tr>\n",
       "    <tr>\n",
       "      <th>1</th>\n",
       "      <td>85</td>\n",
       "      <td>58</td>\n",
       "      <td>41</td>\n",
       "      <td>21.770462</td>\n",
       "      <td>80.319644</td>\n",
       "      <td>7.038096</td>\n",
       "      <td>226.655537</td>\n",
       "      <td>rice</td>\n",
       "    </tr>\n",
       "    <tr>\n",
       "      <th>2</th>\n",
       "      <td>60</td>\n",
       "      <td>55</td>\n",
       "      <td>44</td>\n",
       "      <td>23.004459</td>\n",
       "      <td>82.320763</td>\n",
       "      <td>7.840207</td>\n",
       "      <td>263.964248</td>\n",
       "      <td>rice</td>\n",
       "    </tr>\n",
       "    <tr>\n",
       "      <th>3</th>\n",
       "      <td>74</td>\n",
       "      <td>35</td>\n",
       "      <td>40</td>\n",
       "      <td>26.491096</td>\n",
       "      <td>80.158363</td>\n",
       "      <td>6.980401</td>\n",
       "      <td>242.864034</td>\n",
       "      <td>rice</td>\n",
       "    </tr>\n",
       "    <tr>\n",
       "      <th>4</th>\n",
       "      <td>78</td>\n",
       "      <td>42</td>\n",
       "      <td>42</td>\n",
       "      <td>20.130175</td>\n",
       "      <td>81.604873</td>\n",
       "      <td>7.628473</td>\n",
       "      <td>262.717340</td>\n",
       "      <td>rice</td>\n",
       "    </tr>\n",
       "  </tbody>\n",
       "</table>\n",
       "</div>"
      ],
      "text/plain": [
       "    N   P   K  temperature   humidity        ph    rainfall label\n",
       "0  90  42  43    20.879744  82.002744  6.502985  202.935536  rice\n",
       "1  85  58  41    21.770462  80.319644  7.038096  226.655537  rice\n",
       "2  60  55  44    23.004459  82.320763  7.840207  263.964248  rice\n",
       "3  74  35  40    26.491096  80.158363  6.980401  242.864034  rice\n",
       "4  78  42  42    20.130175  81.604873  7.628473  262.717340  rice"
      ]
     },
     "execution_count": 3,
     "metadata": {},
     "output_type": "execute_result"
    }
   ],
   "source": [
    "crop.head()"
   ]
  },
  {
   "cell_type": "markdown",
   "id": "0ea35563-b8ba-4d24-85d9-130c33b31ebf",
   "metadata": {},
   "source": [
    "# Renaming Columns"
   ]
  },
  {
   "cell_type": "code",
   "execution_count": 4,
   "id": "768c76a6-6259-4678-a950-d115efea1ec6",
   "metadata": {},
   "outputs": [],
   "source": [
    "fertilizer.columns  = fertilizer.columns.str.lower()\n",
    "fertilizer.rename({'humidity ': 'humidity'}, axis = 1, inplace = True)"
   ]
  },
  {
   "cell_type": "code",
   "execution_count": 5,
   "id": "f543700f-a85c-4616-9952-db3f76f95faf",
   "metadata": {},
   "outputs": [
    {
     "data": {
      "text/html": [
       "<div>\n",
       "<style scoped>\n",
       "    .dataframe tbody tr th:only-of-type {\n",
       "        vertical-align: middle;\n",
       "    }\n",
       "\n",
       "    .dataframe tbody tr th {\n",
       "        vertical-align: top;\n",
       "    }\n",
       "\n",
       "    .dataframe thead th {\n",
       "        text-align: right;\n",
       "    }\n",
       "</style>\n",
       "<table border=\"1\" class=\"dataframe\">\n",
       "  <thead>\n",
       "    <tr style=\"text-align: right;\">\n",
       "      <th></th>\n",
       "      <th>temparature</th>\n",
       "      <th>humidity</th>\n",
       "      <th>moisture</th>\n",
       "      <th>soil type</th>\n",
       "      <th>crop type</th>\n",
       "      <th>nitrogen</th>\n",
       "      <th>potassium</th>\n",
       "      <th>phosphorous</th>\n",
       "      <th>fertilizer name</th>\n",
       "    </tr>\n",
       "  </thead>\n",
       "  <tbody>\n",
       "    <tr>\n",
       "      <th>0</th>\n",
       "      <td>26</td>\n",
       "      <td>52</td>\n",
       "      <td>38</td>\n",
       "      <td>Sandy</td>\n",
       "      <td>Maize</td>\n",
       "      <td>37</td>\n",
       "      <td>0</td>\n",
       "      <td>0</td>\n",
       "      <td>Urea</td>\n",
       "    </tr>\n",
       "    <tr>\n",
       "      <th>1</th>\n",
       "      <td>29</td>\n",
       "      <td>52</td>\n",
       "      <td>45</td>\n",
       "      <td>Loamy</td>\n",
       "      <td>Sugarcane</td>\n",
       "      <td>12</td>\n",
       "      <td>0</td>\n",
       "      <td>36</td>\n",
       "      <td>DAP</td>\n",
       "    </tr>\n",
       "    <tr>\n",
       "      <th>2</th>\n",
       "      <td>34</td>\n",
       "      <td>65</td>\n",
       "      <td>62</td>\n",
       "      <td>Black</td>\n",
       "      <td>Cotton</td>\n",
       "      <td>7</td>\n",
       "      <td>9</td>\n",
       "      <td>30</td>\n",
       "      <td>14-35-14</td>\n",
       "    </tr>\n",
       "    <tr>\n",
       "      <th>3</th>\n",
       "      <td>32</td>\n",
       "      <td>62</td>\n",
       "      <td>34</td>\n",
       "      <td>Red</td>\n",
       "      <td>Tobacco</td>\n",
       "      <td>22</td>\n",
       "      <td>0</td>\n",
       "      <td>20</td>\n",
       "      <td>28-28</td>\n",
       "    </tr>\n",
       "    <tr>\n",
       "      <th>4</th>\n",
       "      <td>28</td>\n",
       "      <td>54</td>\n",
       "      <td>46</td>\n",
       "      <td>Clayey</td>\n",
       "      <td>Paddy</td>\n",
       "      <td>35</td>\n",
       "      <td>0</td>\n",
       "      <td>0</td>\n",
       "      <td>Urea</td>\n",
       "    </tr>\n",
       "  </tbody>\n",
       "</table>\n",
       "</div>"
      ],
      "text/plain": [
       "   temparature  humidity  moisture soil type  crop type  nitrogen  potassium  \\\n",
       "0           26        52        38     Sandy      Maize        37          0   \n",
       "1           29        52        45     Loamy  Sugarcane        12          0   \n",
       "2           34        65        62     Black     Cotton         7          9   \n",
       "3           32        62        34       Red    Tobacco        22          0   \n",
       "4           28        54        46    Clayey      Paddy        35          0   \n",
       "\n",
       "   phosphorous fertilizer name  \n",
       "0            0            Urea  \n",
       "1           36             DAP  \n",
       "2           30        14-35-14  \n",
       "3           20           28-28  \n",
       "4            0            Urea  "
      ]
     },
     "execution_count": 5,
     "metadata": {},
     "output_type": "execute_result"
    }
   ],
   "source": [
    "fertilizer.head()"
   ]
  },
  {
   "cell_type": "code",
   "execution_count": 6,
   "id": "1fed08c1-d833-45e2-9e3b-22ced024e1f5",
   "metadata": {},
   "outputs": [],
   "source": [
    "pd.options.display.float_format = '{:,.0f}'.format"
   ]
  },
  {
   "cell_type": "code",
   "execution_count": 7,
   "id": "0402cc74-5d60-4c06-afe4-509b5365b54f",
   "metadata": {},
   "outputs": [
    {
     "name": "stdout",
     "output_type": "stream",
     "text": [
      "<class 'pandas.core.frame.DataFrame'>\n",
      "RangeIndex: 2200 entries, 0 to 2199\n",
      "Data columns (total 8 columns):\n",
      " #   Column       Non-Null Count  Dtype  \n",
      "---  ------       --------------  -----  \n",
      " 0   N            2200 non-null   int64  \n",
      " 1   P            2200 non-null   int64  \n",
      " 2   K            2200 non-null   int64  \n",
      " 3   temperature  2200 non-null   float64\n",
      " 4   humidity     2200 non-null   float64\n",
      " 5   ph           2200 non-null   float64\n",
      " 6   rainfall     2200 non-null   float64\n",
      " 7   label        2200 non-null   object \n",
      "dtypes: float64(4), int64(3), object(1)\n",
      "memory usage: 137.6+ KB\n"
     ]
    }
   ],
   "source": [
    "crop.info()"
   ]
  },
  {
   "cell_type": "markdown",
   "id": "543ecd2d-5bf4-4d17-bbf7-d8479fcaabe2",
   "metadata": {},
   "source": [
    "# Checking Missing values"
   ]
  },
  {
   "cell_type": "code",
   "execution_count": 8,
   "id": "96c32b10-dbbe-43f8-b114-9b63322d38ea",
   "metadata": {},
   "outputs": [
    {
     "data": {
      "text/plain": [
       "N              0\n",
       "P              0\n",
       "K              0\n",
       "temperature    0\n",
       "humidity       0\n",
       "ph             0\n",
       "rainfall       0\n",
       "label          0\n",
       "dtype: int64"
      ]
     },
     "execution_count": 8,
     "metadata": {},
     "output_type": "execute_result"
    }
   ],
   "source": [
    "crop.isna().sum()"
   ]
  },
  {
   "cell_type": "code",
   "execution_count": 9,
   "id": "456a5f76-186c-43ad-90bf-182dd957bc34",
   "metadata": {},
   "outputs": [
    {
     "data": {
      "text/plain": [
       "0"
      ]
     },
     "execution_count": 9,
     "metadata": {},
     "output_type": "execute_result"
    }
   ],
   "source": [
    "crop.duplicated().sum()"
   ]
  },
  {
   "cell_type": "markdown",
   "id": "851de052-fa05-4973-b578-516050b9a65f",
   "metadata": {},
   "source": [
    "# Descriptive Statistics"
   ]
  },
  {
   "cell_type": "code",
   "execution_count": 10,
   "id": "58f4f014-90e2-43e4-8e15-3cb68a75fb77",
   "metadata": {},
   "outputs": [
    {
     "data": {
      "text/html": [
       "<div>\n",
       "<style scoped>\n",
       "    .dataframe tbody tr th:only-of-type {\n",
       "        vertical-align: middle;\n",
       "    }\n",
       "\n",
       "    .dataframe tbody tr th {\n",
       "        vertical-align: top;\n",
       "    }\n",
       "\n",
       "    .dataframe thead th {\n",
       "        text-align: right;\n",
       "    }\n",
       "</style>\n",
       "<table border=\"1\" class=\"dataframe\">\n",
       "  <thead>\n",
       "    <tr style=\"text-align: right;\">\n",
       "      <th></th>\n",
       "      <th>N</th>\n",
       "      <th>P</th>\n",
       "      <th>K</th>\n",
       "      <th>temperature</th>\n",
       "      <th>humidity</th>\n",
       "      <th>ph</th>\n",
       "      <th>rainfall</th>\n",
       "    </tr>\n",
       "  </thead>\n",
       "  <tbody>\n",
       "    <tr>\n",
       "      <th>count</th>\n",
       "      <td>2,200</td>\n",
       "      <td>2,200</td>\n",
       "      <td>2,200</td>\n",
       "      <td>2,200</td>\n",
       "      <td>2,200</td>\n",
       "      <td>2,200</td>\n",
       "      <td>2,200</td>\n",
       "    </tr>\n",
       "    <tr>\n",
       "      <th>mean</th>\n",
       "      <td>51</td>\n",
       "      <td>53</td>\n",
       "      <td>48</td>\n",
       "      <td>26</td>\n",
       "      <td>71</td>\n",
       "      <td>6</td>\n",
       "      <td>103</td>\n",
       "    </tr>\n",
       "    <tr>\n",
       "      <th>std</th>\n",
       "      <td>37</td>\n",
       "      <td>33</td>\n",
       "      <td>51</td>\n",
       "      <td>5</td>\n",
       "      <td>22</td>\n",
       "      <td>1</td>\n",
       "      <td>55</td>\n",
       "    </tr>\n",
       "    <tr>\n",
       "      <th>min</th>\n",
       "      <td>0</td>\n",
       "      <td>5</td>\n",
       "      <td>5</td>\n",
       "      <td>9</td>\n",
       "      <td>14</td>\n",
       "      <td>4</td>\n",
       "      <td>20</td>\n",
       "    </tr>\n",
       "    <tr>\n",
       "      <th>25%</th>\n",
       "      <td>21</td>\n",
       "      <td>28</td>\n",
       "      <td>20</td>\n",
       "      <td>23</td>\n",
       "      <td>60</td>\n",
       "      <td>6</td>\n",
       "      <td>65</td>\n",
       "    </tr>\n",
       "    <tr>\n",
       "      <th>50%</th>\n",
       "      <td>37</td>\n",
       "      <td>51</td>\n",
       "      <td>32</td>\n",
       "      <td>26</td>\n",
       "      <td>80</td>\n",
       "      <td>6</td>\n",
       "      <td>95</td>\n",
       "    </tr>\n",
       "    <tr>\n",
       "      <th>75%</th>\n",
       "      <td>84</td>\n",
       "      <td>68</td>\n",
       "      <td>49</td>\n",
       "      <td>29</td>\n",
       "      <td>90</td>\n",
       "      <td>7</td>\n",
       "      <td>124</td>\n",
       "    </tr>\n",
       "    <tr>\n",
       "      <th>max</th>\n",
       "      <td>140</td>\n",
       "      <td>145</td>\n",
       "      <td>205</td>\n",
       "      <td>44</td>\n",
       "      <td>100</td>\n",
       "      <td>10</td>\n",
       "      <td>299</td>\n",
       "    </tr>\n",
       "  </tbody>\n",
       "</table>\n",
       "</div>"
      ],
      "text/plain": [
       "          N     P     K  temperature  humidity    ph  rainfall\n",
       "count 2,200 2,200 2,200        2,200     2,200 2,200     2,200\n",
       "mean     51    53    48           26        71     6       103\n",
       "std      37    33    51            5        22     1        55\n",
       "min       0     5     5            9        14     4        20\n",
       "25%      21    28    20           23        60     6        65\n",
       "50%      37    51    32           26        80     6        95\n",
       "75%      84    68    49           29        90     7       124\n",
       "max     140   145   205           44       100    10       299"
      ]
     },
     "execution_count": 10,
     "metadata": {},
     "output_type": "execute_result"
    }
   ],
   "source": [
    "crop.describe()"
   ]
  },
  {
   "cell_type": "code",
   "execution_count": 11,
   "id": "8d2bd999-e881-4dbb-8441-688e796bd1d2",
   "metadata": {},
   "outputs": [
    {
     "name": "stdout",
     "output_type": "stream",
     "text": [
      "<class 'pandas.core.frame.DataFrame'>\n",
      "RangeIndex: 99 entries, 0 to 98\n",
      "Data columns (total 9 columns):\n",
      " #   Column           Non-Null Count  Dtype \n",
      "---  ------           --------------  ----- \n",
      " 0   temparature      99 non-null     int64 \n",
      " 1   humidity         99 non-null     int64 \n",
      " 2   moisture         99 non-null     int64 \n",
      " 3   soil type        99 non-null     object\n",
      " 4   crop type        99 non-null     object\n",
      " 5   nitrogen         99 non-null     int64 \n",
      " 6   potassium        99 non-null     int64 \n",
      " 7   phosphorous      99 non-null     int64 \n",
      " 8   fertilizer name  99 non-null     object\n",
      "dtypes: int64(6), object(3)\n",
      "memory usage: 7.1+ KB\n"
     ]
    }
   ],
   "source": [
    "fertilizer.info()"
   ]
  },
  {
   "cell_type": "code",
   "execution_count": 12,
   "id": "8bc1fe4e-f285-437b-8fb3-76fd34e04ae6",
   "metadata": {},
   "outputs": [
    {
     "data": {
      "text/plain": [
       "temparature        0\n",
       "humidity           0\n",
       "moisture           0\n",
       "soil type          0\n",
       "crop type          0\n",
       "nitrogen           0\n",
       "potassium          0\n",
       "phosphorous        0\n",
       "fertilizer name    0\n",
       "dtype: int64"
      ]
     },
     "execution_count": 12,
     "metadata": {},
     "output_type": "execute_result"
    }
   ],
   "source": [
    "fertilizer.isna().sum()"
   ]
  },
  {
   "cell_type": "code",
   "execution_count": 13,
   "id": "be443ea5-0bba-411b-9ab8-a448c0bdd15c",
   "metadata": {},
   "outputs": [
    {
     "data": {
      "text/plain": [
       "0"
      ]
     },
     "execution_count": 13,
     "metadata": {},
     "output_type": "execute_result"
    }
   ],
   "source": [
    "fertilizer.duplicated().sum()"
   ]
  },
  {
   "cell_type": "code",
   "execution_count": 14,
   "id": "43692de6-c2d0-42b1-8ac5-dc688511dfe1",
   "metadata": {},
   "outputs": [
    {
     "data": {
      "text/html": [
       "<div>\n",
       "<style scoped>\n",
       "    .dataframe tbody tr th:only-of-type {\n",
       "        vertical-align: middle;\n",
       "    }\n",
       "\n",
       "    .dataframe tbody tr th {\n",
       "        vertical-align: top;\n",
       "    }\n",
       "\n",
       "    .dataframe thead th {\n",
       "        text-align: right;\n",
       "    }\n",
       "</style>\n",
       "<table border=\"1\" class=\"dataframe\">\n",
       "  <thead>\n",
       "    <tr style=\"text-align: right;\">\n",
       "      <th></th>\n",
       "      <th>temparature</th>\n",
       "      <th>humidity</th>\n",
       "      <th>moisture</th>\n",
       "      <th>nitrogen</th>\n",
       "      <th>potassium</th>\n",
       "      <th>phosphorous</th>\n",
       "    </tr>\n",
       "  </thead>\n",
       "  <tbody>\n",
       "    <tr>\n",
       "      <th>count</th>\n",
       "      <td>99</td>\n",
       "      <td>99</td>\n",
       "      <td>99</td>\n",
       "      <td>99</td>\n",
       "      <td>99</td>\n",
       "      <td>99</td>\n",
       "    </tr>\n",
       "    <tr>\n",
       "      <th>mean</th>\n",
       "      <td>30</td>\n",
       "      <td>59</td>\n",
       "      <td>43</td>\n",
       "      <td>19</td>\n",
       "      <td>3</td>\n",
       "      <td>19</td>\n",
       "    </tr>\n",
       "    <tr>\n",
       "      <th>std</th>\n",
       "      <td>4</td>\n",
       "      <td>6</td>\n",
       "      <td>11</td>\n",
       "      <td>12</td>\n",
       "      <td>6</td>\n",
       "      <td>13</td>\n",
       "    </tr>\n",
       "    <tr>\n",
       "      <th>min</th>\n",
       "      <td>25</td>\n",
       "      <td>50</td>\n",
       "      <td>25</td>\n",
       "      <td>4</td>\n",
       "      <td>0</td>\n",
       "      <td>0</td>\n",
       "    </tr>\n",
       "    <tr>\n",
       "      <th>25%</th>\n",
       "      <td>28</td>\n",
       "      <td>54</td>\n",
       "      <td>34</td>\n",
       "      <td>10</td>\n",
       "      <td>0</td>\n",
       "      <td>9</td>\n",
       "    </tr>\n",
       "    <tr>\n",
       "      <th>50%</th>\n",
       "      <td>30</td>\n",
       "      <td>60</td>\n",
       "      <td>41</td>\n",
       "      <td>13</td>\n",
       "      <td>0</td>\n",
       "      <td>19</td>\n",
       "    </tr>\n",
       "    <tr>\n",
       "      <th>75%</th>\n",
       "      <td>33</td>\n",
       "      <td>64</td>\n",
       "      <td>50</td>\n",
       "      <td>24</td>\n",
       "      <td>8</td>\n",
       "      <td>30</td>\n",
       "    </tr>\n",
       "    <tr>\n",
       "      <th>max</th>\n",
       "      <td>38</td>\n",
       "      <td>72</td>\n",
       "      <td>65</td>\n",
       "      <td>42</td>\n",
       "      <td>19</td>\n",
       "      <td>42</td>\n",
       "    </tr>\n",
       "  </tbody>\n",
       "</table>\n",
       "</div>"
      ],
      "text/plain": [
       "       temparature  humidity  moisture  nitrogen  potassium  phosphorous\n",
       "count           99        99        99        99         99           99\n",
       "mean            30        59        43        19          3           19\n",
       "std              4         6        11        12          6           13\n",
       "min             25        50        25         4          0            0\n",
       "25%             28        54        34        10          0            9\n",
       "50%             30        60        41        13          0           19\n",
       "75%             33        64        50        24          8           30\n",
       "max             38        72        65        42         19           42"
      ]
     },
     "execution_count": 14,
     "metadata": {},
     "output_type": "execute_result"
    }
   ],
   "source": [
    "fertilizer.describe()"
   ]
  },
  {
   "cell_type": "markdown",
   "id": "57b89b15-e1d3-4bac-816d-f6134d79ce29",
   "metadata": {},
   "source": [
    "# Data preprocessing"
   ]
  },
  {
   "cell_type": "code",
   "execution_count": 15,
   "id": "fec08761-b23b-44eb-975f-592d1a7185f1",
   "metadata": {},
   "outputs": [],
   "source": [
    "\n",
    "\n",
    "# Create an instance of LabelEncoder\n",
    "label_encoder = LabelEncoder()\n",
    "\n",
    "\n",
    "# Fit the label encoder and transform the data\n",
    "crop['label'] = label_encoder.fit_transform(crop['label'])"
   ]
  },
  {
   "cell_type": "code",
   "execution_count": 16,
   "id": "054c1ed8-5c20-4e2e-8d04-721c528d4d1e",
   "metadata": {},
   "outputs": [
    {
     "data": {
      "text/html": [
       "<div>\n",
       "<style scoped>\n",
       "    .dataframe tbody tr th:only-of-type {\n",
       "        vertical-align: middle;\n",
       "    }\n",
       "\n",
       "    .dataframe tbody tr th {\n",
       "        vertical-align: top;\n",
       "    }\n",
       "\n",
       "    .dataframe thead th {\n",
       "        text-align: right;\n",
       "    }\n",
       "</style>\n",
       "<table border=\"1\" class=\"dataframe\">\n",
       "  <thead>\n",
       "    <tr style=\"text-align: right;\">\n",
       "      <th></th>\n",
       "      <th>N</th>\n",
       "      <th>P</th>\n",
       "      <th>K</th>\n",
       "      <th>temperature</th>\n",
       "      <th>humidity</th>\n",
       "      <th>ph</th>\n",
       "      <th>rainfall</th>\n",
       "      <th>label</th>\n",
       "    </tr>\n",
       "  </thead>\n",
       "  <tbody>\n",
       "    <tr>\n",
       "      <th>0</th>\n",
       "      <td>90</td>\n",
       "      <td>42</td>\n",
       "      <td>43</td>\n",
       "      <td>21</td>\n",
       "      <td>82</td>\n",
       "      <td>7</td>\n",
       "      <td>203</td>\n",
       "      <td>20</td>\n",
       "    </tr>\n",
       "    <tr>\n",
       "      <th>1</th>\n",
       "      <td>85</td>\n",
       "      <td>58</td>\n",
       "      <td>41</td>\n",
       "      <td>22</td>\n",
       "      <td>80</td>\n",
       "      <td>7</td>\n",
       "      <td>227</td>\n",
       "      <td>20</td>\n",
       "    </tr>\n",
       "    <tr>\n",
       "      <th>2</th>\n",
       "      <td>60</td>\n",
       "      <td>55</td>\n",
       "      <td>44</td>\n",
       "      <td>23</td>\n",
       "      <td>82</td>\n",
       "      <td>8</td>\n",
       "      <td>264</td>\n",
       "      <td>20</td>\n",
       "    </tr>\n",
       "    <tr>\n",
       "      <th>3</th>\n",
       "      <td>74</td>\n",
       "      <td>35</td>\n",
       "      <td>40</td>\n",
       "      <td>26</td>\n",
       "      <td>80</td>\n",
       "      <td>7</td>\n",
       "      <td>243</td>\n",
       "      <td>20</td>\n",
       "    </tr>\n",
       "    <tr>\n",
       "      <th>4</th>\n",
       "      <td>78</td>\n",
       "      <td>42</td>\n",
       "      <td>42</td>\n",
       "      <td>20</td>\n",
       "      <td>82</td>\n",
       "      <td>8</td>\n",
       "      <td>263</td>\n",
       "      <td>20</td>\n",
       "    </tr>\n",
       "  </tbody>\n",
       "</table>\n",
       "</div>"
      ],
      "text/plain": [
       "    N   P   K  temperature  humidity  ph  rainfall  label\n",
       "0  90  42  43           21        82   7       203     20\n",
       "1  85  58  41           22        80   7       227     20\n",
       "2  60  55  44           23        82   8       264     20\n",
       "3  74  35  40           26        80   7       243     20\n",
       "4  78  42  42           20        82   8       263     20"
      ]
     },
     "execution_count": 16,
     "metadata": {},
     "output_type": "execute_result"
    }
   ],
   "source": [
    "crop.head()"
   ]
  },
  {
   "cell_type": "code",
   "execution_count": 17,
   "id": "8726282f-10da-4ba5-b24f-68574c56951b",
   "metadata": {},
   "outputs": [
    {
     "data": {
      "text/html": [
       "<div>\n",
       "<style scoped>\n",
       "    .dataframe tbody tr th:only-of-type {\n",
       "        vertical-align: middle;\n",
       "    }\n",
       "\n",
       "    .dataframe tbody tr th {\n",
       "        vertical-align: top;\n",
       "    }\n",
       "\n",
       "    .dataframe thead th {\n",
       "        text-align: right;\n",
       "    }\n",
       "</style>\n",
       "<table border=\"1\" class=\"dataframe\">\n",
       "  <thead>\n",
       "    <tr style=\"text-align: right;\">\n",
       "      <th></th>\n",
       "      <th>N</th>\n",
       "      <th>P</th>\n",
       "      <th>K</th>\n",
       "      <th>temperature</th>\n",
       "      <th>humidity</th>\n",
       "      <th>ph</th>\n",
       "      <th>rainfall</th>\n",
       "      <th>label</th>\n",
       "    </tr>\n",
       "  </thead>\n",
       "  <tbody>\n",
       "    <tr>\n",
       "      <th>0</th>\n",
       "      <td>90</td>\n",
       "      <td>42</td>\n",
       "      <td>43</td>\n",
       "      <td>21</td>\n",
       "      <td>82</td>\n",
       "      <td>7</td>\n",
       "      <td>203</td>\n",
       "      <td>20</td>\n",
       "    </tr>\n",
       "    <tr>\n",
       "      <th>1</th>\n",
       "      <td>85</td>\n",
       "      <td>58</td>\n",
       "      <td>41</td>\n",
       "      <td>22</td>\n",
       "      <td>80</td>\n",
       "      <td>7</td>\n",
       "      <td>227</td>\n",
       "      <td>20</td>\n",
       "    </tr>\n",
       "    <tr>\n",
       "      <th>2</th>\n",
       "      <td>60</td>\n",
       "      <td>55</td>\n",
       "      <td>44</td>\n",
       "      <td>23</td>\n",
       "      <td>82</td>\n",
       "      <td>8</td>\n",
       "      <td>264</td>\n",
       "      <td>20</td>\n",
       "    </tr>\n",
       "    <tr>\n",
       "      <th>3</th>\n",
       "      <td>74</td>\n",
       "      <td>35</td>\n",
       "      <td>40</td>\n",
       "      <td>26</td>\n",
       "      <td>80</td>\n",
       "      <td>7</td>\n",
       "      <td>243</td>\n",
       "      <td>20</td>\n",
       "    </tr>\n",
       "    <tr>\n",
       "      <th>4</th>\n",
       "      <td>78</td>\n",
       "      <td>42</td>\n",
       "      <td>42</td>\n",
       "      <td>20</td>\n",
       "      <td>82</td>\n",
       "      <td>8</td>\n",
       "      <td>263</td>\n",
       "      <td>20</td>\n",
       "    </tr>\n",
       "  </tbody>\n",
       "</table>\n",
       "</div>"
      ],
      "text/plain": [
       "    N   P   K  temperature  humidity  ph  rainfall  label\n",
       "0  90  42  43           21        82   7       203     20\n",
       "1  85  58  41           22        80   7       227     20\n",
       "2  60  55  44           23        82   8       264     20\n",
       "3  74  35  40           26        80   7       243     20\n",
       "4  78  42  42           20        82   8       263     20"
      ]
     },
     "execution_count": 17,
     "metadata": {},
     "output_type": "execute_result"
    }
   ],
   "source": [
    "crop.head()"
   ]
  },
  {
   "cell_type": "markdown",
   "id": "5880d400-909d-4f8d-8a63-bef0fcae7dd7",
   "metadata": {},
   "source": [
    "# Correlation Matrix"
   ]
  },
  {
   "cell_type": "code",
   "execution_count": 18,
   "id": "24b9a459-5047-4791-bbcb-3e8460071f85",
   "metadata": {},
   "outputs": [
    {
     "data": {
      "image/png": "[encoded data removed]",
      "text/plain": [
       "<Figure size 700x500 with 2 Axes>"
      ]
     },
     "metadata": {},
     "output_type": "display_data"
    }
   ],
   "source": [
    "# 3. Correlation matrix heatmap\n",
    "corr_matrix = crop.corr()\n",
    "plt.figure(figsize=(7, 5))\n",
    "sns.heatmap(corr_matrix, annot=True, cmap=\"coolwarm\")\n",
    "plt.title(\"Correlation Matrix Heatmap\")\n",
    "plt.show()"
   ]
  },
  {
   "cell_type": "markdown",
   "id": "efd8ad9c-6e4b-422e-bf8c-7870335317e8",
   "metadata": {},
   "source": [
    "# Saving clean data"
   ]
  },
  {
   "cell_type": "code",
   "execution_count": 19,
   "id": "308c21b7-4948-4033-9edf-3827bfc4892d",
   "metadata": {},
   "outputs": [],
   "source": [
    "crop.to_csv('crop_cleaned.csv', index = False)\n",
    "fertilizer.to_csv('fertilizer_cleaned.csv', index = False)"
   ]
  },
  {
   "cell_type": "markdown",
   "id": "a9497ee9-5249-4db5-bd8f-d4fc1d811629",
   "metadata": {},
   "source": [
    "# Crop Recommendation"
   ]
  },
  {
   "cell_type": "markdown",
   "id": "55e9700e-7b95-4d92-8017-a3a5f40be3cb",
   "metadata": {},
   "source": [
    "# Algorithms"
   ]
  },
  {
   "cell_type": "markdown",
   "id": "14c30511-65c1-49b4-8827-982e3eedd68a",
   "metadata": {},
   "source": [
    "## Logistic Regression"
   ]
  },
  {
   "cell_type": "code",
   "execution_count": 20,
   "id": "af6d7dac-886a-41d4-9697-b1bda404818f",
   "metadata": {},
   "outputs": [],
   "source": [
    "# Features\n",
    "X = crop.drop('label', axis = 1).values\n",
    "# Target\n",
    "y = crop['label'].values"
   ]
  },
  {
   "cell_type": "code",
   "execution_count": 21,
   "id": "fbd817f9-5809-49aa-8fbb-02d48db51967",
   "metadata": {},
   "outputs": [
    {
     "name": "stdout",
     "output_type": "stream",
     "text": [
      "Logistic Regression Accuracy:94.55%\n"
     ]
    },
    {
     "name": "stderr",
     "output_type": "stream",
     "text": [
      "C:\\Users\\Mahbub\\AppData\\Local\\Programs\\Python\\Python311\\Lib\\site-packages\\sklearn\\linear_model\\_logistic.py:460: ConvergenceWarning: lbfgs failed to converge (status=1):\n",
      "STOP: TOTAL NO. of ITERATIONS REACHED LIMIT.\n",
      "\n",
      "Increase the number of iterations (max_iter) or scale the data as shown in:\n",
      "    https://scikit-learn.org/stable/modules/preprocessing.html\n",
      "Please also refer to the documentation for alternative solver options:\n",
      "    https://scikit-learn.org/stable/modules/linear_model.html#logistic-regression\n",
      "  n_iter_i = _check_optimize_result(\n"
     ]
    }
   ],
   "source": [
    "\n",
    "\n",
    "X_train, X_test, y_train, y_test = train_test_split(X, y, test_size = 0.20, random_state = 42)\n",
    "\n",
    "l_reg = LogisticRegression()\n",
    "\n",
    "l_reg.fit(X_train, y_train)\n",
    "\n",
    "y_pred = l_reg.predict(X_test)\n",
    "\n",
    "accuracy = l_reg.score(X_test, y_test)\n",
    "\n",
    "print(f'Logistic Regression Accuracy:{round(accuracy*100, 2)}%')"
   ]
  },
  {
   "cell_type": "markdown",
   "id": "dd6de43c-e745-4fb1-8f79-9ea69db00a9b",
   "metadata": {},
   "source": [
    "## Random Forest Classifier"
   ]
  },
  {
   "cell_type": "code",
   "execution_count": 22,
   "id": "42e37279-1af3-42e9-9104-07c2766edae6",
   "metadata": {},
   "outputs": [
    {
     "name": "stdout",
     "output_type": "stream",
     "text": [
      "Accuracy: 99.32%\n"
     ]
    }
   ],
   "source": [
    "\n",
    "\n",
    "\n",
    "# Create a Random Forest classifier\n",
    "rf_classifier = RandomForestClassifier(n_estimators=100, random_state=25)\n",
    "\n",
    "# Train the classifier on the training data\n",
    "rf_classifier.fit(X_train, y_train)\n",
    "\n",
    "# Make predictions on the test data\n",
    "y_pred = rf_classifier.predict(X_test)\n",
    "\n",
    "# Evaluate the accuracy of the classifier\n",
    "accuracy = accuracy_score(y_test, y_pred)\n",
    "print(f\"Accuracy: {accuracy*100:.2f}%\")"
   ]
  },
  {
   "cell_type": "markdown",
   "id": "9c5dd86f-3fe6-44c8-bcaa-f372b5710b1b",
   "metadata": {},
   "source": [
    "## Decision Tree Classifier"
   ]
  },
  {
   "cell_type": "code",
   "execution_count": 23,
   "id": "6580bd0f-ca6a-4fe6-9af8-e01f134aa803",
   "metadata": {},
   "outputs": [
    {
     "name": "stdout",
     "output_type": "stream",
     "text": [
      "Accuracy: 98.64%\n"
     ]
    }
   ],
   "source": [
    "\n",
    "# Create a Decision Tree classifier\n",
    "dt_classifier = DecisionTreeClassifier(random_state=42)\n",
    "\n",
    "# Train the classifier on the training data\n",
    "dt_classifier.fit(X_train, y_train)\n",
    "\n",
    "# Make predictions on the test data\n",
    "y_pred = dt_classifier.predict(X_test)\n",
    "\n",
    "# Evaluate the accuracy of the classifier\n",
    "accuracy = accuracy_score(y_test, y_pred)\n",
    "print(f\"Accuracy: {accuracy*100:.2f}%\")"
   ]
  },
  {
   "cell_type": "markdown",
   "id": "d372117f-1a1b-4b54-a6ff-416ea45fc318",
   "metadata": {},
   "source": [
    "## K - Nearest Neighbors"
   ]
  },
  {
   "cell_type": "code",
   "execution_count": 24,
   "id": "a50ee48b-5a7c-4e1f-8e20-d5bc688399af",
   "metadata": {},
   "outputs": [
    {
     "name": "stdout",
     "output_type": "stream",
     "text": [
      "Accuracy: 96.59%\n"
     ]
    }
   ],
   "source": [
    "\n",
    "# Create a KNN classifier with k=3 (you can adjust the value of k)\n",
    "knn_classifier = KNeighborsClassifier(n_neighbors=9)\n",
    "\n",
    "# Train the classifier on the training data\n",
    "knn_classifier.fit(X_train, y_train)\n",
    "\n",
    "# Make predictions on the test data\n",
    "y_pred = knn_classifier.predict(X_test)\n",
    "\n",
    "# Evaluate the accuracy of the classifier\n",
    "accuracy = accuracy_score(y_test, y_pred)\n",
    "print(f\"Accuracy: {accuracy*100:.2f}%\")\n"
   ]
  },
  {
   "cell_type": "markdown",
   "id": "c8d47eac-84ab-4d39-b5cc-7f998f888432",
   "metadata": {},
   "source": [
    "## Support Vector Machine"
   ]
  },
  {
   "cell_type": "code",
   "execution_count": 27,
   "id": "adaf1e6b-57e8-4a86-bafa-5bebc50105da",
   "metadata": {},
   "outputs": [
    {
     "name": "stdout",
     "output_type": "stream",
     "text": [
      "Accuracy: 97.95%\n"
     ]
    }
   ],
   "source": [
    "# Create an SVM classifier\n",
    "svm_classifier = SVC(kernel='linear', C=1.0, random_state=25)\n",
    "\n",
    "# Train the classifier on the training data\n",
    "svm_classifier.fit(X_train, y_train)\n",
    "\n",
    "# Make predictions on the test data\n",
    "y_pred = svm_classifier.predict(X_test)\n",
    "\n",
    "# Evaluate the accuracy of the classifier\n",
    "accuracy = accuracy_score(y_test, y_pred)\n",
    "print(f\"Accuracy: {accuracy*100:.2f}%\")\n"
   ]
  },
  {
   "cell_type": "markdown",
   "id": "1be4daa6-a3c4-4ce9-9338-bb879a48eef2",
   "metadata": {},
   "source": [
    "# Fertilizer Prediction"
   ]
  },
  {
   "cell_type": "code",
   "execution_count": 28,
   "id": "2cc3d824-b490-4e26-a5c2-77c2e65bf756",
   "metadata": {},
   "outputs": [
    {
     "data": {
      "text/plain": [
       "<Axes: xlabel='fertilizer name', ylabel='count'>"
      ]
     },
     "execution_count": 28,
     "metadata": {},
     "output_type": "execute_result"
    },
    {
     "data": {
      "image/png": "[encoded data removed]",
      "text/plain": [
       "<Figure size 640x480 with 1 Axes>"
      ]
     },
     "metadata": {},
     "output_type": "display_data"
    }
   ],
   "source": [
    "sns.countplot(data= fertilizer,x='fertilizer name')"
   ]
  },
  {
   "cell_type": "code",
   "execution_count": 29,
   "id": "b77cf5f8-1670-49b8-85b0-7f126a53ed31",
   "metadata": {},
   "outputs": [
    {
     "data": {
      "text/plain": [
       "soil type\n",
       "Loamy     21\n",
       "Sandy     20\n",
       "Clayey    20\n",
       "Black     19\n",
       "Red       19\n",
       "Name: count, dtype: int64"
      ]
     },
     "execution_count": 29,
     "metadata": {},
     "output_type": "execute_result"
    }
   ],
   "source": [
    "fertilizer['soil type'].value_counts()"
   ]
  },
  {
   "cell_type": "code",
   "execution_count": 30,
   "id": "e31c9cbf-b2f7-4f9f-9006-290197d1d7ee",
   "metadata": {},
   "outputs": [
    {
     "data": {
      "text/plain": [
       "crop type\n",
       "Sugarcane      13\n",
       "Cotton         12\n",
       "Millets        11\n",
       "Paddy          10\n",
       "Pulses         10\n",
       "Wheat           9\n",
       "Tobacco         7\n",
       "Barley          7\n",
       "Oil seeds       7\n",
       "Ground Nuts     7\n",
       "Maize           6\n",
       "Name: count, dtype: int64"
      ]
     },
     "execution_count": 30,
     "metadata": {},
     "output_type": "execute_result"
    }
   ],
   "source": [
    "fertilizer['crop type'].value_counts()"
   ]
  },
  {
   "cell_type": "code",
   "execution_count": 31,
   "id": "1aa63007-9c22-45aa-9e7b-31e8670d6042",
   "metadata": {},
   "outputs": [],
   "source": [
    "soil_dict={\n",
    "    'Loamy':1,\n",
    "    'Sandy':2,\n",
    "    'Clayey':3,\n",
    "    'Black':4,\n",
    "    'Red':5\n",
    "}\n",
    "\n",
    "crop_dict={\n",
    "    'Sugarcane':1,\n",
    "    'Cotton':2,\n",
    "    'Millets':3,\n",
    "    'Paddy':4,\n",
    "    'Pulses':5,\n",
    "    'Wheat':6,\n",
    "    'Tobacco':7,\n",
    "    'Barley':8,\n",
    "    'Oil seeds':9,\n",
    "    'Ground Nuts':10,\n",
    "    'Maize':11\n",
    "    \n",
    "}"
   ]
  },
  {
   "cell_type": "code",
   "execution_count": 32,
   "id": "6c91a39f-5e59-4edb-a33b-e1109814517f",
   "metadata": {},
   "outputs": [],
   "source": [
    "fertilizer['soil_num']=fertilizer['soil type'].map(soil_dict)\n",
    "fertilizer['crop_num']=fertilizer['crop type'].map(crop_dict)"
   ]
  },
  {
   "cell_type": "code",
   "execution_count": 33,
   "id": "353edc66-c81a-4bdc-ba88-29b6ffda37e4",
   "metadata": {},
   "outputs": [],
   "source": [
    "# Use the map function to replace values in the 'Category' column\n",
    "fertilizer['soil_num'] = fertilizer['soil type'].map(soil_dict)"
   ]
  },
  {
   "cell_type": "code",
   "execution_count": 34,
   "id": "248a16a1-3988-4c4f-9c0e-e87764bcd0a2",
   "metadata": {},
   "outputs": [
    {
     "data": {
      "text/html": [
       "<div>\n",
       "<style scoped>\n",
       "    .dataframe tbody tr th:only-of-type {\n",
       "        vertical-align: middle;\n",
       "    }\n",
       "\n",
       "    .dataframe tbody tr th {\n",
       "        vertical-align: top;\n",
       "    }\n",
       "\n",
       "    .dataframe thead th {\n",
       "        text-align: right;\n",
       "    }\n",
       "</style>\n",
       "<table border=\"1\" class=\"dataframe\">\n",
       "  <thead>\n",
       "    <tr style=\"text-align: right;\">\n",
       "      <th></th>\n",
       "      <th>temparature</th>\n",
       "      <th>humidity</th>\n",
       "      <th>moisture</th>\n",
       "      <th>soil type</th>\n",
       "      <th>crop type</th>\n",
       "      <th>nitrogen</th>\n",
       "      <th>potassium</th>\n",
       "      <th>phosphorous</th>\n",
       "      <th>fertilizer name</th>\n",
       "      <th>soil_num</th>\n",
       "      <th>crop_num</th>\n",
       "    </tr>\n",
       "  </thead>\n",
       "  <tbody>\n",
       "    <tr>\n",
       "      <th>0</th>\n",
       "      <td>26</td>\n",
       "      <td>52</td>\n",
       "      <td>38</td>\n",
       "      <td>Sandy</td>\n",
       "      <td>Maize</td>\n",
       "      <td>37</td>\n",
       "      <td>0</td>\n",
       "      <td>0</td>\n",
       "      <td>Urea</td>\n",
       "      <td>2</td>\n",
       "      <td>11</td>\n",
       "    </tr>\n",
       "    <tr>\n",
       "      <th>1</th>\n",
       "      <td>29</td>\n",
       "      <td>52</td>\n",
       "      <td>45</td>\n",
       "      <td>Loamy</td>\n",
       "      <td>Sugarcane</td>\n",
       "      <td>12</td>\n",
       "      <td>0</td>\n",
       "      <td>36</td>\n",
       "      <td>DAP</td>\n",
       "      <td>1</td>\n",
       "      <td>1</td>\n",
       "    </tr>\n",
       "    <tr>\n",
       "      <th>2</th>\n",
       "      <td>34</td>\n",
       "      <td>65</td>\n",
       "      <td>62</td>\n",
       "      <td>Black</td>\n",
       "      <td>Cotton</td>\n",
       "      <td>7</td>\n",
       "      <td>9</td>\n",
       "      <td>30</td>\n",
       "      <td>14-35-14</td>\n",
       "      <td>4</td>\n",
       "      <td>2</td>\n",
       "    </tr>\n",
       "    <tr>\n",
       "      <th>3</th>\n",
       "      <td>32</td>\n",
       "      <td>62</td>\n",
       "      <td>34</td>\n",
       "      <td>Red</td>\n",
       "      <td>Tobacco</td>\n",
       "      <td>22</td>\n",
       "      <td>0</td>\n",
       "      <td>20</td>\n",
       "      <td>28-28</td>\n",
       "      <td>5</td>\n",
       "      <td>7</td>\n",
       "    </tr>\n",
       "    <tr>\n",
       "      <th>4</th>\n",
       "      <td>28</td>\n",
       "      <td>54</td>\n",
       "      <td>46</td>\n",
       "      <td>Clayey</td>\n",
       "      <td>Paddy</td>\n",
       "      <td>35</td>\n",
       "      <td>0</td>\n",
       "      <td>0</td>\n",
       "      <td>Urea</td>\n",
       "      <td>3</td>\n",
       "      <td>4</td>\n",
       "    </tr>\n",
       "  </tbody>\n",
       "</table>\n",
       "</div>"
      ],
      "text/plain": [
       "   temparature  humidity  moisture soil type  crop type  nitrogen  potassium  \\\n",
       "0           26        52        38     Sandy      Maize        37          0   \n",
       "1           29        52        45     Loamy  Sugarcane        12          0   \n",
       "2           34        65        62     Black     Cotton         7          9   \n",
       "3           32        62        34       Red    Tobacco        22          0   \n",
       "4           28        54        46    Clayey      Paddy        35          0   \n",
       "\n",
       "   phosphorous fertilizer name  soil_num  crop_num  \n",
       "0            0            Urea         2        11  \n",
       "1           36             DAP         1         1  \n",
       "2           30        14-35-14         4         2  \n",
       "3           20           28-28         5         7  \n",
       "4            0            Urea         3         4  "
      ]
     },
     "execution_count": 34,
     "metadata": {},
     "output_type": "execute_result"
    }
   ],
   "source": [
    "fertilizer.head()"
   ]
  },
  {
   "cell_type": "code",
   "execution_count": 35,
   "id": "5b31b0bd-4435-4528-8e70-f30413c7416c",
   "metadata": {},
   "outputs": [
    {
     "data": {
      "text/html": [
       "<div>\n",
       "<style scoped>\n",
       "    .dataframe tbody tr th:only-of-type {\n",
       "        vertical-align: middle;\n",
       "    }\n",
       "\n",
       "    .dataframe tbody tr th {\n",
       "        vertical-align: top;\n",
       "    }\n",
       "\n",
       "    .dataframe thead th {\n",
       "        text-align: right;\n",
       "    }\n",
       "</style>\n",
       "<table border=\"1\" class=\"dataframe\">\n",
       "  <thead>\n",
       "    <tr style=\"text-align: right;\">\n",
       "      <th></th>\n",
       "      <th>temparature</th>\n",
       "      <th>humidity</th>\n",
       "      <th>moisture</th>\n",
       "      <th>nitrogen</th>\n",
       "      <th>potassium</th>\n",
       "      <th>phosphorous</th>\n",
       "      <th>fertilizer name</th>\n",
       "      <th>soil_num</th>\n",
       "      <th>crop_num</th>\n",
       "    </tr>\n",
       "  </thead>\n",
       "  <tbody>\n",
       "    <tr>\n",
       "      <th>0</th>\n",
       "      <td>26</td>\n",
       "      <td>52</td>\n",
       "      <td>38</td>\n",
       "      <td>37</td>\n",
       "      <td>0</td>\n",
       "      <td>0</td>\n",
       "      <td>Urea</td>\n",
       "      <td>2</td>\n",
       "      <td>11</td>\n",
       "    </tr>\n",
       "    <tr>\n",
       "      <th>1</th>\n",
       "      <td>29</td>\n",
       "      <td>52</td>\n",
       "      <td>45</td>\n",
       "      <td>12</td>\n",
       "      <td>0</td>\n",
       "      <td>36</td>\n",
       "      <td>DAP</td>\n",
       "      <td>1</td>\n",
       "      <td>1</td>\n",
       "    </tr>\n",
       "    <tr>\n",
       "      <th>2</th>\n",
       "      <td>34</td>\n",
       "      <td>65</td>\n",
       "      <td>62</td>\n",
       "      <td>7</td>\n",
       "      <td>9</td>\n",
       "      <td>30</td>\n",
       "      <td>14-35-14</td>\n",
       "      <td>4</td>\n",
       "      <td>2</td>\n",
       "    </tr>\n",
       "    <tr>\n",
       "      <th>3</th>\n",
       "      <td>32</td>\n",
       "      <td>62</td>\n",
       "      <td>34</td>\n",
       "      <td>22</td>\n",
       "      <td>0</td>\n",
       "      <td>20</td>\n",
       "      <td>28-28</td>\n",
       "      <td>5</td>\n",
       "      <td>7</td>\n",
       "    </tr>\n",
       "    <tr>\n",
       "      <th>4</th>\n",
       "      <td>28</td>\n",
       "      <td>54</td>\n",
       "      <td>46</td>\n",
       "      <td>35</td>\n",
       "      <td>0</td>\n",
       "      <td>0</td>\n",
       "      <td>Urea</td>\n",
       "      <td>3</td>\n",
       "      <td>4</td>\n",
       "    </tr>\n",
       "  </tbody>\n",
       "</table>\n",
       "</div>"
      ],
      "text/plain": [
       "   temparature  humidity  moisture  nitrogen  potassium  phosphorous  \\\n",
       "0           26        52        38        37          0            0   \n",
       "1           29        52        45        12          0           36   \n",
       "2           34        65        62         7          9           30   \n",
       "3           32        62        34        22          0           20   \n",
       "4           28        54        46        35          0            0   \n",
       "\n",
       "  fertilizer name  soil_num  crop_num  \n",
       "0            Urea         2        11  \n",
       "1             DAP         1         1  \n",
       "2        14-35-14         4         2  \n",
       "3           28-28         5         7  \n",
       "4            Urea         3         4  "
      ]
     },
     "execution_count": 35,
     "metadata": {},
     "output_type": "execute_result"
    }
   ],
   "source": [
    "fertilizer=fertilizer.drop(['soil type','crop type'],axis=1)\n",
    "fertilizer.head()"
   ]
  },
  {
   "cell_type": "code",
   "execution_count": 36,
   "id": "62cbcd61-faec-4217-b9b1-864b93732364",
   "metadata": {},
   "outputs": [],
   "source": [
    "X=fertilizer.drop(['fertilizer name'],axis=1)\n",
    "y=fertilizer['fertilizer name']"
   ]
  },
  {
   "cell_type": "code",
   "execution_count": 37,
   "id": "8cd517bf-b212-4ece-91d8-92205d299aa3",
   "metadata": {},
   "outputs": [],
   "source": [
    "X_train,X_test,y_train,y_test=train_test_split(X,y,test_size=0.2, random_state = 42)"
   ]
  },
  {
   "cell_type": "code",
   "execution_count": 38,
   "id": "3bc2daaf-828a-4b0e-86b7-3a3e7722725a",
   "metadata": {},
   "outputs": [
    {
     "name": "stdout",
     "output_type": "stream",
     "text": [
      "Training data shape: (79, 8)\n",
      "Testing data shape: (20, 8)\n"
     ]
    }
   ],
   "source": [
    "print(f'Training data shape: {X_train.shape}')\n",
    "print(f'Testing data shape: {X_test.shape}')"
   ]
  },
  {
   "cell_type": "code",
   "execution_count": 39,
   "id": "7835d0fc-b3bf-4ef8-8c2f-58a8c769dc50",
   "metadata": {},
   "outputs": [
    {
     "name": "stderr",
     "output_type": "stream",
     "text": [
      "C:\\Users\\Mahbub\\AppData\\Local\\Programs\\Python\\Python311\\Lib\\site-packages\\sklearn\\linear_model\\_logistic.py:460: ConvergenceWarning: lbfgs failed to converge (status=1):\n",
      "STOP: TOTAL NO. of ITERATIONS REACHED LIMIT.\n",
      "\n",
      "Increase the number of iterations (max_iter) or scale the data as shown in:\n",
      "    https://scikit-learn.org/stable/modules/preprocessing.html\n",
      "Please also refer to the documentation for alternative solver options:\n",
      "    https://scikit-learn.org/stable/modules/linear_model.html#logistic-regression\n",
      "  n_iter_i = _check_optimize_result(\n"
     ]
    },
    {
     "data": {
      "text/plain": [
       "1.0"
      ]
     },
     "execution_count": 39,
     "metadata": {},
     "output_type": "execute_result"
    }
   ],
   "source": [
    "log_reg = LogisticRegression()\n",
    "log_reg.fit(X_train, y_train)\n",
    "y_pred = log_reg.predict(X_test)\n",
    "accuracy = log_reg.score(X_test, y_test)\n",
    "accuracy"
   ]
  },
  {
   "cell_type": "markdown",
   "id": "4c5bfbd7-afc0-45d3-b271-9c1d0ae53311",
   "metadata": {},
   "source": [
    "## Random Forest classifier"
   ]
  },
  {
   "cell_type": "code",
   "execution_count": 43,
   "id": "d8595424-fb10-4ab3-a6c0-f2e6e47848f1",
   "metadata": {},
   "outputs": [
    {
     "name": "stdout",
     "output_type": "stream",
     "text": [
      "Accuracy: 95.00%\n"
     ]
    }
   ],
   "source": [
    "# Create a Random Forest classifier\n",
    "rf_classifier = RandomForestClassifier(n_estimators=100, random_state=25)\n",
    "\n",
    "# Train the classifier on the training data\n",
    "rf_classifier.fit(X_train, y_train)\n",
    "\n",
    "# Make predictions on the test data\n",
    "y_pred = rf_classifier.predict(X_test)\n",
    "\n",
    "# Evaluate the accuracy of the classifier\n",
    "accuracy = accuracy_score(y_test, y_pred)\n",
    "print(f\"Accuracy: {accuracy*100:.2f}%\")"
   ]
  },
  {
   "cell_type": "markdown",
   "id": "cdc2e80e-c27e-41cd-b5d0-eccd8a8c4389",
   "metadata": {},
   "source": [
    "## Decision Tree classifier"
   ]
  },
  {
   "cell_type": "code",
   "execution_count": 44,
   "id": "21628b95-345e-4076-8ded-b6a2ddda25e6",
   "metadata": {},
   "outputs": [
    {
     "name": "stdout",
     "output_type": "stream",
     "text": [
      "Accuracy: 100.00%\n"
     ]
    }
   ],
   "source": [
    "# Create a Decision Tree classifier\n",
    "dt_classifier = DecisionTreeClassifier(random_state=42)\n",
    "\n",
    "# Train the classifier on the training data\n",
    "dt_classifier.fit(X_train, y_train)\n",
    "\n",
    "# Make predictions on the test data\n",
    "y_pred = dt_classifier.predict(X_test)\n",
    "\n",
    "# Evaluate the accuracy of the classifier\n",
    "accuracy = accuracy_score(y_test, y_pred)\n",
    "print(f\"Accuracy: {accuracy*100:.2f}%\")"
   ]
  },
  {
   "cell_type": "markdown",
   "id": "22b802b2-26a5-40a6-904b-43963cbadf3c",
   "metadata": {},
   "source": [
    "## K-Nearest Neighbors classifier"
   ]
  },
  {
   "cell_type": "code",
   "execution_count": 45,
   "id": "7a02b081-bc51-4a8b-b56c-421c709e0b5a",
   "metadata": {},
   "outputs": [
    {
     "name": "stdout",
     "output_type": "stream",
     "text": [
      "Accuracy: 85.00%\n"
     ]
    }
   ],
   "source": [
    "# Create a KNN classifier with k=9\n",
    "knn_classifier = KNeighborsClassifier(n_neighbors=9)\n",
    "\n",
    "# Train the classifier on the training data\n",
    "knn_classifier.fit(X_train, y_train)\n",
    "\n",
    "# Make predictions on the test data\n",
    "y_pred = knn_classifier.predict(X_test)\n",
    "\n",
    "# Evaluate the accuracy of the classifier\n",
    "accuracy = accuracy_score(y_test, y_pred)\n",
    "print(f\"Accuracy: {accuracy*100:.2f}%\")"
   ]
  },
  {
   "cell_type": "markdown",
   "id": "aaf97ebc-1bc5-4fd9-8628-014896eb89a1",
   "metadata": {},
   "source": [
    "## Support Vector Machine"
   ]
  },
  {
   "cell_type": "code",
   "execution_count": 46,
   "id": "9edc6639-fb8e-41f0-a1c8-2d74e8d46842",
   "metadata": {},
   "outputs": [
    {
     "name": "stdout",
     "output_type": "stream",
     "text": [
      "Accuracy: 100.00%\n"
     ]
    }
   ],
   "source": [
    "# Create an SVM classifier\n",
    "svm_classifier = SVC(kernel='linear', C=1.0, random_state=25)\n",
    "\n",
    "# Train the classifier on the training data\n",
    "svm_classifier.fit(X_train, y_train)\n",
    "\n",
    "# Make predictions on the test data\n",
    "y_pred = svm_classifier.predict(X_test)\n",
    "\n",
    "# Evaluate the accuracy of the classifier\n",
    "accuracy = accuracy_score(y_test, y_pred)\n",
    "print(f\"Accuracy: {accuracy*100:.2f}%\")"
   ]
  },
  {
   "cell_type": "code",
   "execution_count": null,
   "id": "f460cd1f-6c7b-4460-bf38-579d4952a3cc",
   "metadata": {},
   "outputs": [],
   "source": []
  }
 ],
 "metadata": {
  "kernelspec": {
   "display_name": "Python 3 (ipykernel)",
   "language": "python",
   "name": "python3"
  },
  "language_info": {
   "codemirror_mode": {
    "name": "ipython",
    "version": 3
   },
   "file_extension": ".py",
   "mimetype": "text/x-python",
   "name": "python",
   "nbconvert_exporter": "python",
   "pygments_lexer": "ipython3",
   "version": "3.11.4"
  },
  "widgets": {
   "application/vnd.jupyter.widget-state+json": {
    "state": {},
    "version_major": 2,
    "version_minor": 0
   }
  }
 },
 "nbformat": 4,
 "nbformat_minor": 5
}
